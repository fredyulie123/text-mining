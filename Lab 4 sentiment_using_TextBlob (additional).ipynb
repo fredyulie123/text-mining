{
 "cells": [
  {
   "cell_type": "markdown",
   "metadata": {},
   "source": [
    "# Lab 4  (Part B): TextBlob for sentiment analysis\n",
    "\n",
    "\n",
    "We will use TextBlob for sentiment analysis. TextBlob is a more recent package that builds on NLTK. For complete documentation of TextBlob see: https://textblob.readthedocs.io/en/dev/\n",
    "\n",
    "#### To install TextBlob package you need to run:\n",
    "#####  pip install -U textblob\n",
    "##### python -m textblob.download_corpora\n",
    "\n"
   ]
  },
  {
   "cell_type": "code",
   "execution_count": 1,
   "metadata": {},
   "outputs": [],
   "source": [
    "import nltk\n",
    "import textblob\n",
    "from textblob import TextBlob"
   ]
  },
  {
   "cell_type": "code",
   "execution_count": 2,
   "metadata": {},
   "outputs": [],
   "source": [
    "f = open('input_new.txt','r',encoding='utf-8')\n",
    "raw = f.read()\n",
    "raw = raw.replace('\\n',' ')"
   ]
  },
  {
   "cell_type": "markdown",
   "metadata": {},
   "source": [
    "# Setiment Analysis\n",
    "\n",
    "The textblob.sentiments module contains two sentiment analysis implementations, PatternAnalyzer (based on the pattern library) and NaiveBayesAnalyzer (an NLTK classifier trained on a movie reviews corpus). The default implementation, which we will use, is PatternAnalyzer.\n",
    "\n",
    "PatternAnalyzer returns a tuple of form (polarity, subjectivity, assessments ); polarity is a float within the range [-1.0, 1.0];\n",
    "subjectivity is a float within the range [0.0, 1.0] where 0.0 is very objective and 1.0 is very subjective;\n",
    "assessments is a list of polarity and subjectivity scores for assessed tokens"
   ]
  },
  {
   "cell_type": "code",
   "execution_count": 3,
   "metadata": {},
   "outputs": [],
   "source": [
    "import nltk"
   ]
  },
  {
   "cell_type": "code",
   "execution_count": 4,
   "metadata": {},
   "outputs": [],
   "source": [
    "sent = nltk.tokenize.sent_tokenize(raw)"
   ]
  },
  {
   "cell_type": "code",
   "execution_count": 11,
   "metadata": {},
   "outputs": [],
   "source": [
    "scores = []\n",
    "scores_noassesments = []\n",
    "for sentence in sent:\n",
    "    s = TextBlob(sentence)\n",
    "    scores.append(s.sentiment_assessments)\n",
    "    scores_noassesments.append(s.sentiment)"
   ]
  },
  {
   "cell_type": "code",
   "execution_count": 7,
   "metadata": {},
   "outputs": [
    {
     "data": {
      "text/plain": [
       "Sentiment(polarity=-0.1, subjectivity=0.2, assessments=[(['remote'], -0.1, 0.2, None)])"
      ]
     },
     "execution_count": 7,
     "metadata": {},
     "output_type": "execute_result"
    }
   ],
   "source": [
    "scores[0]"
   ]
  },
  {
   "cell_type": "code",
   "execution_count": 12,
   "metadata": {},
   "outputs": [
    {
     "data": {
      "text/plain": [
       "Sentiment(polarity=-0.1, subjectivity=0.2)"
      ]
     },
     "execution_count": 12,
     "metadata": {},
     "output_type": "execute_result"
    }
   ],
   "source": [
    "scores_noassesments[0]"
   ]
  },
  {
   "cell_type": "code",
   "execution_count": 8,
   "metadata": {},
   "outputs": [
    {
     "data": {
      "text/plain": [
       "Sentiment(polarity=0.34533333333333327, subjectivity=0.608, assessments=[(['highly', 'competent'], 0.5, 0.6666666666666666, None), (['older'], 0.16666666666666666, 0.3333333333333333, None), (['many'], 0.5, 0.5, None), (['important'], 0.4, 1.0, None), (['high'], 0.16, 0.5399999999999999, None)])"
      ]
     },
     "execution_count": 8,
     "metadata": {},
     "output_type": "execute_result"
    }
   ],
   "source": [
    "scores[1]"
   ]
  },
  {
   "cell_type": "code",
   "execution_count": 13,
   "metadata": {},
   "outputs": [
    {
     "data": {
      "text/plain": [
       "Sentiment(polarity=0.34533333333333327, subjectivity=0.608)"
      ]
     },
     "execution_count": 13,
     "metadata": {},
     "output_type": "execute_result"
    }
   ],
   "source": [
    "scores_noassesments[1]"
   ]
  }
 ],
 "metadata": {
  "kernelspec": {
   "display_name": "Python 3",
   "language": "python",
   "name": "python3"
  },
  "language_info": {
   "codemirror_mode": {
    "name": "ipython",
    "version": 3
   },
   "file_extension": ".py",
   "mimetype": "text/x-python",
   "name": "python",
   "nbconvert_exporter": "python",
   "pygments_lexer": "ipython3",
   "version": "3.7.3"
  }
 },
 "nbformat": 4,
 "nbformat_minor": 2
}
